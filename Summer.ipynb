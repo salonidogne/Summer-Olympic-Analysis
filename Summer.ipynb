{
 "cells": [
  {
   "cell_type": "markdown",
   "id": "329b1b72",
   "metadata": {},
   "source": [
    "# Summer Olympics Data Analysis Assignment"
   ]
  },
  {
   "cell_type": "code",
   "execution_count": 1,
   "id": "a0a72dbc",
   "metadata": {},
   "outputs": [],
   "source": [
    "import pandas as pd\n",
    "import numpy as np\n",
    "import matplotlib.pyplot as plt"
   ]
  },
  {
   "cell_type": "code",
   "execution_count": 2,
   "id": "1df7af63",
   "metadata": {},
   "outputs": [],
   "source": [
    "df = pd.read_csv(\"summer.csv\")"
   ]
  },
  {
   "cell_type": "code",
   "execution_count": 3,
   "id": "2f8e9747",
   "metadata": {},
   "outputs": [
    {
     "data": {
      "text/html": [
       "<div>\n",
       "<style scoped>\n",
       "    .dataframe tbody tr th:only-of-type {\n",
       "        vertical-align: middle;\n",
       "    }\n",
       "\n",
       "    .dataframe tbody tr th {\n",
       "        vertical-align: top;\n",
       "    }\n",
       "\n",
       "    .dataframe thead th {\n",
       "        text-align: right;\n",
       "    }\n",
       "</style>\n",
       "<table border=\"1\" class=\"dataframe\">\n",
       "  <thead>\n",
       "    <tr style=\"text-align: right;\">\n",
       "      <th></th>\n",
       "      <th>Year</th>\n",
       "      <th>City</th>\n",
       "      <th>Sport</th>\n",
       "      <th>Discipline</th>\n",
       "      <th>Athlete</th>\n",
       "      <th>Country</th>\n",
       "      <th>Gender</th>\n",
       "      <th>Event</th>\n",
       "      <th>Medal</th>\n",
       "    </tr>\n",
       "  </thead>\n",
       "  <tbody>\n",
       "    <tr>\n",
       "      <th>0</th>\n",
       "      <td>1896</td>\n",
       "      <td>Athens</td>\n",
       "      <td>Aquatics</td>\n",
       "      <td>Swimming</td>\n",
       "      <td>HAJOS, Alfred</td>\n",
       "      <td>HUN</td>\n",
       "      <td>Men</td>\n",
       "      <td>100M Freestyle</td>\n",
       "      <td>Gold</td>\n",
       "    </tr>\n",
       "    <tr>\n",
       "      <th>1</th>\n",
       "      <td>1896</td>\n",
       "      <td>Athens</td>\n",
       "      <td>Aquatics</td>\n",
       "      <td>Swimming</td>\n",
       "      <td>HERSCHMANN, Otto</td>\n",
       "      <td>AUT</td>\n",
       "      <td>Men</td>\n",
       "      <td>100M Freestyle</td>\n",
       "      <td>Silver</td>\n",
       "    </tr>\n",
       "    <tr>\n",
       "      <th>2</th>\n",
       "      <td>1896</td>\n",
       "      <td>Athens</td>\n",
       "      <td>Aquatics</td>\n",
       "      <td>Swimming</td>\n",
       "      <td>DRIVAS, Dimitrios</td>\n",
       "      <td>GRE</td>\n",
       "      <td>Men</td>\n",
       "      <td>100M Freestyle For Sailors</td>\n",
       "      <td>Bronze</td>\n",
       "    </tr>\n",
       "    <tr>\n",
       "      <th>3</th>\n",
       "      <td>1896</td>\n",
       "      <td>Athens</td>\n",
       "      <td>Aquatics</td>\n",
       "      <td>Swimming</td>\n",
       "      <td>MALOKINIS, Ioannis</td>\n",
       "      <td>GRE</td>\n",
       "      <td>Men</td>\n",
       "      <td>100M Freestyle For Sailors</td>\n",
       "      <td>Gold</td>\n",
       "    </tr>\n",
       "    <tr>\n",
       "      <th>4</th>\n",
       "      <td>1896</td>\n",
       "      <td>Athens</td>\n",
       "      <td>Aquatics</td>\n",
       "      <td>Swimming</td>\n",
       "      <td>CHASAPIS, Spiridon</td>\n",
       "      <td>GRE</td>\n",
       "      <td>Men</td>\n",
       "      <td>100M Freestyle For Sailors</td>\n",
       "      <td>Silver</td>\n",
       "    </tr>\n",
       "    <tr>\n",
       "      <th>...</th>\n",
       "      <td>...</td>\n",
       "      <td>...</td>\n",
       "      <td>...</td>\n",
       "      <td>...</td>\n",
       "      <td>...</td>\n",
       "      <td>...</td>\n",
       "      <td>...</td>\n",
       "      <td>...</td>\n",
       "      <td>...</td>\n",
       "    </tr>\n",
       "    <tr>\n",
       "      <th>31160</th>\n",
       "      <td>2012</td>\n",
       "      <td>London</td>\n",
       "      <td>Wrestling</td>\n",
       "      <td>Wrestling Freestyle</td>\n",
       "      <td>JANIKOWSKI, Damian</td>\n",
       "      <td>POL</td>\n",
       "      <td>Men</td>\n",
       "      <td>Wg 84 KG</td>\n",
       "      <td>Bronze</td>\n",
       "    </tr>\n",
       "    <tr>\n",
       "      <th>31161</th>\n",
       "      <td>2012</td>\n",
       "      <td>London</td>\n",
       "      <td>Wrestling</td>\n",
       "      <td>Wrestling Freestyle</td>\n",
       "      <td>REZAEI, Ghasem Gholamreza</td>\n",
       "      <td>IRI</td>\n",
       "      <td>Men</td>\n",
       "      <td>Wg 96 KG</td>\n",
       "      <td>Gold</td>\n",
       "    </tr>\n",
       "    <tr>\n",
       "      <th>31162</th>\n",
       "      <td>2012</td>\n",
       "      <td>London</td>\n",
       "      <td>Wrestling</td>\n",
       "      <td>Wrestling Freestyle</td>\n",
       "      <td>TOTROV, Rustam</td>\n",
       "      <td>RUS</td>\n",
       "      <td>Men</td>\n",
       "      <td>Wg 96 KG</td>\n",
       "      <td>Silver</td>\n",
       "    </tr>\n",
       "    <tr>\n",
       "      <th>31163</th>\n",
       "      <td>2012</td>\n",
       "      <td>London</td>\n",
       "      <td>Wrestling</td>\n",
       "      <td>Wrestling Freestyle</td>\n",
       "      <td>ALEKSANYAN, Artur</td>\n",
       "      <td>ARM</td>\n",
       "      <td>Men</td>\n",
       "      <td>Wg 96 KG</td>\n",
       "      <td>Bronze</td>\n",
       "    </tr>\n",
       "    <tr>\n",
       "      <th>31164</th>\n",
       "      <td>2012</td>\n",
       "      <td>London</td>\n",
       "      <td>Wrestling</td>\n",
       "      <td>Wrestling Freestyle</td>\n",
       "      <td>LIDBERG, Jimmy</td>\n",
       "      <td>SWE</td>\n",
       "      <td>Men</td>\n",
       "      <td>Wg 96 KG</td>\n",
       "      <td>Bronze</td>\n",
       "    </tr>\n",
       "  </tbody>\n",
       "</table>\n",
       "<p>31165 rows × 9 columns</p>\n",
       "</div>"
      ],
      "text/plain": [
       "       Year    City      Sport           Discipline  \\\n",
       "0      1896  Athens   Aquatics             Swimming   \n",
       "1      1896  Athens   Aquatics             Swimming   \n",
       "2      1896  Athens   Aquatics             Swimming   \n",
       "3      1896  Athens   Aquatics             Swimming   \n",
       "4      1896  Athens   Aquatics             Swimming   \n",
       "...     ...     ...        ...                  ...   \n",
       "31160  2012  London  Wrestling  Wrestling Freestyle   \n",
       "31161  2012  London  Wrestling  Wrestling Freestyle   \n",
       "31162  2012  London  Wrestling  Wrestling Freestyle   \n",
       "31163  2012  London  Wrestling  Wrestling Freestyle   \n",
       "31164  2012  London  Wrestling  Wrestling Freestyle   \n",
       "\n",
       "                         Athlete Country Gender                       Event  \\\n",
       "0                  HAJOS, Alfred     HUN    Men              100M Freestyle   \n",
       "1               HERSCHMANN, Otto     AUT    Men              100M Freestyle   \n",
       "2              DRIVAS, Dimitrios     GRE    Men  100M Freestyle For Sailors   \n",
       "3             MALOKINIS, Ioannis     GRE    Men  100M Freestyle For Sailors   \n",
       "4             CHASAPIS, Spiridon     GRE    Men  100M Freestyle For Sailors   \n",
       "...                          ...     ...    ...                         ...   \n",
       "31160         JANIKOWSKI, Damian     POL    Men                    Wg 84 KG   \n",
       "31161  REZAEI, Ghasem Gholamreza     IRI    Men                    Wg 96 KG   \n",
       "31162             TOTROV, Rustam     RUS    Men                    Wg 96 KG   \n",
       "31163          ALEKSANYAN, Artur     ARM    Men                    Wg 96 KG   \n",
       "31164             LIDBERG, Jimmy     SWE    Men                    Wg 96 KG   \n",
       "\n",
       "        Medal  \n",
       "0        Gold  \n",
       "1      Silver  \n",
       "2      Bronze  \n",
       "3        Gold  \n",
       "4      Silver  \n",
       "...       ...  \n",
       "31160  Bronze  \n",
       "31161    Gold  \n",
       "31162  Silver  \n",
       "31163  Bronze  \n",
       "31164  Bronze  \n",
       "\n",
       "[31165 rows x 9 columns]"
      ]
     },
     "execution_count": 3,
     "metadata": {},
     "output_type": "execute_result"
    }
   ],
   "source": [
    "df"
   ]
  },
  {
   "cell_type": "code",
   "execution_count": 6,
   "id": "958295d4",
   "metadata": {},
   "outputs": [
    {
     "data": {
      "text/html": [
       "<div>\n",
       "<style scoped>\n",
       "    .dataframe tbody tr th:only-of-type {\n",
       "        vertical-align: middle;\n",
       "    }\n",
       "\n",
       "    .dataframe tbody tr th {\n",
       "        vertical-align: top;\n",
       "    }\n",
       "\n",
       "    .dataframe thead th {\n",
       "        text-align: right;\n",
       "    }\n",
       "</style>\n",
       "<table border=\"1\" class=\"dataframe\">\n",
       "  <thead>\n",
       "    <tr style=\"text-align: right;\">\n",
       "      <th></th>\n",
       "      <th>Year</th>\n",
       "      <th>City</th>\n",
       "      <th>Sport</th>\n",
       "      <th>Discipline</th>\n",
       "      <th>Athlete</th>\n",
       "      <th>Country</th>\n",
       "      <th>Gender</th>\n",
       "      <th>Event</th>\n",
       "      <th>Medal</th>\n",
       "    </tr>\n",
       "  </thead>\n",
       "  <tbody>\n",
       "    <tr>\n",
       "      <th>0</th>\n",
       "      <td>1896</td>\n",
       "      <td>Athens</td>\n",
       "      <td>Aquatics</td>\n",
       "      <td>Swimming</td>\n",
       "      <td>HAJOS, Alfred</td>\n",
       "      <td>HUN</td>\n",
       "      <td>Men</td>\n",
       "      <td>100M Freestyle</td>\n",
       "      <td>Gold</td>\n",
       "    </tr>\n",
       "    <tr>\n",
       "      <th>1</th>\n",
       "      <td>1896</td>\n",
       "      <td>Athens</td>\n",
       "      <td>Aquatics</td>\n",
       "      <td>Swimming</td>\n",
       "      <td>HERSCHMANN, Otto</td>\n",
       "      <td>AUT</td>\n",
       "      <td>Men</td>\n",
       "      <td>100M Freestyle</td>\n",
       "      <td>Silver</td>\n",
       "    </tr>\n",
       "    <tr>\n",
       "      <th>2</th>\n",
       "      <td>1896</td>\n",
       "      <td>Athens</td>\n",
       "      <td>Aquatics</td>\n",
       "      <td>Swimming</td>\n",
       "      <td>DRIVAS, Dimitrios</td>\n",
       "      <td>GRE</td>\n",
       "      <td>Men</td>\n",
       "      <td>100M Freestyle For Sailors</td>\n",
       "      <td>Bronze</td>\n",
       "    </tr>\n",
       "    <tr>\n",
       "      <th>3</th>\n",
       "      <td>1896</td>\n",
       "      <td>Athens</td>\n",
       "      <td>Aquatics</td>\n",
       "      <td>Swimming</td>\n",
       "      <td>MALOKINIS, Ioannis</td>\n",
       "      <td>GRE</td>\n",
       "      <td>Men</td>\n",
       "      <td>100M Freestyle For Sailors</td>\n",
       "      <td>Gold</td>\n",
       "    </tr>\n",
       "    <tr>\n",
       "      <th>4</th>\n",
       "      <td>1896</td>\n",
       "      <td>Athens</td>\n",
       "      <td>Aquatics</td>\n",
       "      <td>Swimming</td>\n",
       "      <td>CHASAPIS, Spiridon</td>\n",
       "      <td>GRE</td>\n",
       "      <td>Men</td>\n",
       "      <td>100M Freestyle For Sailors</td>\n",
       "      <td>Silver</td>\n",
       "    </tr>\n",
       "  </tbody>\n",
       "</table>\n",
       "</div>"
      ],
      "text/plain": [
       "   Year    City     Sport Discipline             Athlete Country Gender  \\\n",
       "0  1896  Athens  Aquatics   Swimming       HAJOS, Alfred     HUN    Men   \n",
       "1  1896  Athens  Aquatics   Swimming    HERSCHMANN, Otto     AUT    Men   \n",
       "2  1896  Athens  Aquatics   Swimming   DRIVAS, Dimitrios     GRE    Men   \n",
       "3  1896  Athens  Aquatics   Swimming  MALOKINIS, Ioannis     GRE    Men   \n",
       "4  1896  Athens  Aquatics   Swimming  CHASAPIS, Spiridon     GRE    Men   \n",
       "\n",
       "                        Event   Medal  \n",
       "0              100M Freestyle    Gold  \n",
       "1              100M Freestyle  Silver  \n",
       "2  100M Freestyle For Sailors  Bronze  \n",
       "3  100M Freestyle For Sailors    Gold  \n",
       "4  100M Freestyle For Sailors  Silver  "
      ]
     },
     "execution_count": 6,
     "metadata": {},
     "output_type": "execute_result"
    }
   ],
   "source": [
    "df.head()"
   ]
  },
  {
   "cell_type": "markdown",
   "id": "e6008714",
   "metadata": {},
   "source": [
    "# 1. In how many cities Summer Olympics is held so far?"
   ]
  },
  {
   "cell_type": "markdown",
   "id": "473dfcbe",
   "metadata": {},
   "source": [
    "# FirstApproach:-"
   ]
  },
  {
   "cell_type": "code",
   "execution_count": 4,
   "id": "29109802",
   "metadata": {},
   "outputs": [
    {
     "data": {
      "text/plain": [
       "22"
      ]
     },
     "execution_count": 4,
     "metadata": {},
     "output_type": "execute_result"
    }
   ],
   "source": [
    "len(df['City'].unique())"
   ]
  },
  {
   "cell_type": "markdown",
   "id": "76b638bf",
   "metadata": {},
   "source": [
    "# Second Approach(by plotting graph):-"
   ]
  },
  {
   "cell_type": "code",
   "execution_count": 39,
   "id": "463689fa",
   "metadata": {},
   "outputs": [
    {
     "name": "stdout",
     "output_type": "stream",
     "text": [
      "-------------City name with held count------------------- \n",
      "\n",
      "                     City  No. of held\n",
      "3                  London            3\n",
      "0                  Athens            2\n",
      "7             Los Angeles            2\n",
      "1                   Paris            2\n",
      "13                 Mexico            1\n",
      "20                 Sydney            1\n",
      "19                Atlanta            1\n",
      "18              Barcelona            1\n",
      "17                  Seoul            1\n",
      "16                 Moscow            1\n",
      "15               Montreal            1\n",
      "14                 Munich            1\n",
      "11                   Rome            1\n",
      "12                  Tokyo            1\n",
      "10  Melbourne / Stockholm            1\n",
      "9                Helsinki            1\n",
      "8                  Berlin            1\n",
      "6               Amsterdam            1\n",
      "5                 Antwerp            1\n",
      "4               Stockholm            1\n",
      "2                St Louis            1\n",
      "21                Beijing            1\n"
     ]
    },
    {
     "data": {
      "text/plain": [
       "<AxesSubplot:xlabel='City'>"
      ]
     },
     "execution_count": 39,
     "metadata": {},
     "output_type": "execute_result"
    },
    {
     "data": {
      "image/png": "[encoded data removed]",
      "text/plain": [
       "<Figure size 1080x360 with 1 Axes>"
      ]
     },
     "metadata": {
      "needs_background": "light"
     },
     "output_type": "display_data"
    }
   ],
   "source": [
    "data = []\n",
    "for city in df['City'].unique():\n",
    "    held_count = 0\n",
    "    for year in df['Year'].unique():\n",
    "        if len(df[(df['City'] == city) & (df['Year'] == year)]) > 0:\n",
    "            held_count += 1\n",
    "    data.append([city, held_count])\n",
    "plot_data = pd.DataFrame(data,columns = ['City','No. of held']).sort_values(by='No. of held', ascending=False)\n",
    "print(\"-------------City name with held count------------------- \\n\")\n",
    "print(plot_data)\n",
    "plot_data.plot(x = 'City', y = 'No. of held', kind = 'bar', figsize = (15,5))\n"
   ]
  },
  {
   "cell_type": "markdown",
   "id": "b3229b23",
   "metadata": {},
   "source": [
    "# 2. Which Sport is having most number of Gold Medals so far?"
   ]
  },
  {
   "cell_type": "markdown",
   "id": "2d1d1125",
   "metadata": {},
   "source": [
    "## Using pandas groupby:-"
   ]
  },
  {
   "cell_type": "code",
   "execution_count": 43,
   "id": "e27bf5d9",
   "metadata": {},
   "outputs": [
    {
     "data": {
      "text/plain": [
       "<AxesSubplot:xlabel='Sport'>"
      ]
     },
     "execution_count": 43,
     "metadata": {},
     "output_type": "execute_result"
    },
    {
     "data": {
      "image/png": "[encoded data removed]",
      "text/plain": [
       "<Figure size 720x360 with 1 Axes>"
      ]
     },
     "metadata": {
      "needs_background": "light"
     },
     "output_type": "display_data"
    }
   ],
   "source": [
    "gold= df[df['Medal']=='Gold']\n",
    "gold.groupby('Sport').count()['Medal'].sort_values(ascending=False).head().plot.bar(figsize=(10, 5),color=\"DarkCyan\")"
   ]
  },
  {
   "cell_type": "markdown",
   "id": "b557ee0d",
   "metadata": {},
   "source": [
    "# Using inbuilt function:-"
   ]
  },
  {
   "cell_type": "code",
   "execution_count": 46,
   "id": "c188d8bf",
   "metadata": {},
   "outputs": [
    {
     "name": "stdout",
     "output_type": "stream",
     "text": [
      "---------------Top-5 sports having most number of Gold Medals--------------------\n",
      "\n",
      "         Sport  No. of gold\n",
      "0     Aquatics         1421\n",
      "1    Athletics         1215\n",
      "17      Rowing          890\n",
      "4   Gymnastics          820\n",
      "3      Fencing          552\n"
     ]
    },
    {
     "data": {
      "text/plain": [
       "<AxesSubplot:xlabel='Sport'>"
      ]
     },
     "execution_count": 46,
     "metadata": {},
     "output_type": "execute_result"
    },
    {
     "data": {
      "image/png": "[encoded data removed]",
      "text/plain": [
       "<Figure size 720x360 with 1 Axes>"
      ]
     },
     "metadata": {
      "needs_background": "light"
     },
     "output_type": "display_data"
    }
   ],
   "source": [
    "data = []\n",
    "\n",
    "for sport in df['Sport'].unique():\n",
    "    data.append([sport , len(df[(df['Sport'] == sport) & (df['Medal'] == \"Gold\")])])\n",
    "\n",
    "plot_data = pd.DataFrame(data,columns = ['Sport','No. of gold']).sort_values(by='No. of gold', ascending=False).head()\n",
    "print(\"---------------Top-5 sports having most number of Gold Medals--------------------\\n\")\n",
    "print(plot_data)\n",
    "plot_data.plot(x = 'Sport', y = 'No. of gold', kind = 'bar', figsize = (10,5), color = \"Indigo\")\n"
   ]
  },
  {
   "cell_type": "markdown",
   "id": "f128e044",
   "metadata": {},
   "source": [
    "# 3. Which Sport is having most number of medals so far?"
   ]
  },
  {
   "cell_type": "markdown",
   "id": "34255763",
   "metadata": {},
   "source": [
    "# Using pandas groupby:-"
   ]
  },
  {
   "cell_type": "code",
   "execution_count": 29,
   "id": "3b2e65df",
   "metadata": {},
   "outputs": [
    {
     "data": {
      "text/plain": [
       "<AxesSubplot:xlabel='Sport'>"
      ]
     },
     "execution_count": 29,
     "metadata": {},
     "output_type": "execute_result"
    },
    {
     "data": {
      "image/png": "[encoded data removed]",
      "text/plain": [
       "<Figure size 720x360 with 1 Axes>"
      ]
     },
     "metadata": {
      "needs_background": "light"
     },
     "output_type": "display_data"
    }
   ],
   "source": [
    "df.groupby('Sport').count()['Medal'].sort_values(ascending=False).head().plot.bar(figsize=(10, 5),  color = 'Indigo')"
   ]
  },
  {
   "cell_type": "markdown",
   "id": "80938b75",
   "metadata": {},
   "source": [
    "# Using inbuilt function:-"
   ]
  },
  {
   "cell_type": "code",
   "execution_count": 30,
   "id": "337adcd0",
   "metadata": {},
   "outputs": [
    {
     "name": "stdout",
     "output_type": "stream",
     "text": [
      "-------------Top-5 sports having most number of Medals-------------\n",
      "\n",
      "         Sport  No. of medals\n",
      "0     Aquatics           4170\n",
      "1    Athletics           3638\n",
      "17      Rowing           2667\n",
      "4   Gymnastics           2307\n",
      "3      Fencing           1613\n"
     ]
    },
    {
     "data": {
      "text/plain": [
       "<AxesSubplot:xlabel='Sport'>"
      ]
     },
     "execution_count": 30,
     "metadata": {},
     "output_type": "execute_result"
    },
    {
     "data": {
      "image/png": "[encoded data removed]",
      "text/plain": [
       "<Figure size 720x360 with 1 Axes>"
      ]
     },
     "metadata": {
      "needs_background": "light"
     },
     "output_type": "display_data"
    }
   ],
   "source": [
    "data = []\n",
    "\n",
    "for sport in df['Sport'].unique():\n",
    "    data.append([sport , len(df[(df['Sport'] == sport)])])\n",
    "\n",
    "plot_data = pd.DataFrame(data,columns = ['Sport','No. of medals']).sort_values(by='No. of medals', ascending=False).head()\n",
    "print(\"-------------Top-5 sports having most number of Medals-------------\\n\")\n",
    "print(plot_data)\n",
    "plot_data.plot(x = 'Sport', y = 'No. of medals', kind = 'bar', figsize = (10,5), color = 'DarkCyan')\n"
   ]
  },
  {
   "cell_type": "markdown",
   "id": "5219a023",
   "metadata": {},
   "source": [
    "# 4. Which player has won most number of medals? (Top 5)"
   ]
  },
  {
   "cell_type": "markdown",
   "id": "5bd3769a",
   "metadata": {},
   "source": [
    "# Using Pandas groupby:-"
   ]
  },
  {
   "cell_type": "code",
   "execution_count": 32,
   "id": "127d6a68",
   "metadata": {},
   "outputs": [
    {
     "data": {
      "text/plain": [
       "<AxesSubplot:xlabel='Athlete'>"
      ]
     },
     "execution_count": 32,
     "metadata": {},
     "output_type": "execute_result"
    },
    {
     "data": {
      "image/png": "[encoded data removed]",
      "text/plain": [
       "<Figure size 720x360 with 1 Axes>"
      ]
     },
     "metadata": {
      "needs_background": "light"
     },
     "output_type": "display_data"
    }
   ],
   "source": [
    "df.groupby('Athlete').count()['Medal'].sort_values(ascending=False).head().plot.bar(figsize=(10, 5), color = 'Indigo')"
   ]
  },
  {
   "cell_type": "markdown",
   "id": "f9aebc65",
   "metadata": {},
   "source": [
    "# Using inbuilt function:-"
   ]
  },
  {
   "cell_type": "code",
   "execution_count": 33,
   "id": "b4b36c81",
   "metadata": {},
   "outputs": [
    {
     "name": "stdout",
     "output_type": "stream",
     "text": [
      "-----------------Top-5 Players having most number of Medals---------------\n",
      "\n",
      "                    Athlete  No. of medals\n",
      "18640       PHELPS, Michael             22\n",
      "7197       LATYNINA, Larisa             18\n",
      "9948     ANDRIANOV, Nikolay             15\n",
      "6591           ONO, Takashi             13\n",
      "5103   MANGIAROTTI, Edoardo             13\n"
     ]
    },
    {
     "data": {
      "text/plain": [
       "<AxesSubplot:xlabel='Athlete'>"
      ]
     },
     "execution_count": 33,
     "metadata": {},
     "output_type": "execute_result"
    },
    {
     "data": {
      "image/png": "[encoded data removed]",
      "text/plain": [
       "<Figure size 720x360 with 1 Axes>"
      ]
     },
     "metadata": {
      "needs_background": "light"
     },
     "output_type": "display_data"
    }
   ],
   "source": [
    "data = []\n",
    "\n",
    "for athlete in df['Athlete'].unique():\n",
    "    data.append([athlete , len(df[(df['Athlete'] == athlete)])])\n",
    "\n",
    "plot_data = pd.DataFrame(data,columns = ['Athlete','No. of medals']).sort_values(by='No. of medals', ascending=False).head()\n",
    "\n",
    "print(\"-----------------Top-5 Players having most number of Medals---------------\\n\")\n",
    "print(plot_data)\n",
    "plot_data.plot(x = 'Athlete', y = 'No. of medals', kind = 'bar', figsize = (10,5), color = 'DarkCyan')\n"
   ]
  },
  {
   "cell_type": "markdown",
   "id": "eaf2242d",
   "metadata": {},
   "source": [
    "# 5. Which player has won most number Gold Medals of medals? (Top 5)"
   ]
  },
  {
   "cell_type": "markdown",
   "id": "9b72670e",
   "metadata": {},
   "source": [
    "# Using Pandas groupby:-"
   ]
  },
  {
   "cell_type": "code",
   "execution_count": 44,
   "id": "3e4620bb",
   "metadata": {},
   "outputs": [
    {
     "data": {
      "text/plain": [
       "<AxesSubplot:xlabel='Athlete'>"
      ]
     },
     "execution_count": 44,
     "metadata": {},
     "output_type": "execute_result"
    },
    {
     "data": {
      "image/png": "[encoded data removed]",
      "text/plain": [
       "<Figure size 720x360 with 1 Axes>"
      ]
     },
     "metadata": {
      "needs_background": "light"
     },
     "output_type": "display_data"
    }
   ],
   "source": [
    "gold= df[df['Medal']=='Gold']\n",
    "gold.groupby('Athlete').count()['Medal'].sort_values(ascending=False).head(5).plot.bar(figsize=(10, 5), color = 'DarkBlue')"
   ]
  },
  {
   "cell_type": "markdown",
   "id": "99372149",
   "metadata": {},
   "source": [
    "# Using inbuilt function:-"
   ]
  },
  {
   "cell_type": "code",
   "execution_count": 45,
   "id": "9105b48d",
   "metadata": {},
   "outputs": [
    {
     "name": "stdout",
     "output_type": "stream",
     "text": [
      "----------Top-5 Players having most number of Gold Medals------------\n",
      "\n",
      "                Athlete  No. of gold medals\n",
      "18640   PHELPS, Michael                  18\n",
      "12468       LEWIS, Carl                   9\n",
      "8811        SPITZ, Mark                   9\n",
      "2262       NURMI, Paavo                   9\n",
      "7197   LATYNINA, Larisa                   9\n"
     ]
    },
    {
     "data": {
      "text/plain": [
       "<AxesSubplot:xlabel='Athlete'>"
      ]
     },
     "execution_count": 45,
     "metadata": {},
     "output_type": "execute_result"
    },
    {
     "data": {
      "image/png": "[encoded data removed]",
      "text/plain": [
       "<Figure size 720x360 with 1 Axes>"
      ]
     },
     "metadata": {
      "needs_background": "light"
     },
     "output_type": "display_data"
    }
   ],
   "source": [
    "data = []\n",
    "\n",
    "for athlete in df['Athlete'].unique():\n",
    "    data.append([athlete , len(df[(df['Athlete'] == athlete) & (df['Medal'] == \"Gold\")])])\n",
    "\n",
    "plot_data = pd.DataFrame(data,columns = ['Athlete','No. of gold medals']).sort_values(by='No. of gold medals', ascending=False).head()\n",
    "\n",
    "print(\"----------Top-5 Players having most number of Gold Medals------------\\n\")\n",
    "print(plot_data)\n",
    "plot_data.plot(x = 'Athlete', y = 'No. of gold medals', kind = 'bar', figsize = (10,5), color = 'DarkGreen')"
   ]
  },
  {
   "cell_type": "markdown",
   "id": "35c259bb",
   "metadata": {},
   "source": [
    "# 6. In which year India won first Gold Medal in Summer Olympics?"
   ]
  },
  {
   "cell_type": "markdown",
   "id": "aa9ba7bb",
   "metadata": {},
   "source": [
    "# Using Pandas groupby:-"
   ]
  },
  {
   "cell_type": "code",
   "execution_count": 14,
   "id": "ebc9a215",
   "metadata": {},
   "outputs": [
    {
     "data": {
      "text/plain": [
       "1928"
      ]
     },
     "execution_count": 14,
     "metadata": {},
     "output_type": "execute_result"
    }
   ],
   "source": [
    "gold[gold['Country']=='IND']['Year'].min()"
   ]
  },
  {
   "cell_type": "markdown",
   "id": "178f3a21",
   "metadata": {},
   "source": [
    "# Using inbuilt function:-"
   ]
  },
  {
   "cell_type": "code",
   "execution_count": 35,
   "id": "f56e5654",
   "metadata": {},
   "outputs": [
    {
     "name": "stdout",
     "output_type": "stream",
     "text": [
      "---------------India won Gold Medal in Summer Olympics--------------\n",
      "\n",
      "    Year  Gold\n",
      "0   1896     0\n",
      "1   1900     0\n",
      "2   1904     0\n",
      "3   1908     0\n",
      "4   1912     0\n",
      "5   1920     0\n",
      "6   1924     0\n",
      "7   1928    15\n",
      "8   1932    11\n",
      "9   1936    19\n",
      "10  1948    20\n",
      "11  1952    14\n",
      "12  1956    17\n",
      "13  1960     0\n",
      "14  1964    15\n",
      "15  1968     0\n",
      "16  1972     0\n",
      "17  1976     0\n",
      "18  1980    16\n",
      "19  1984     0\n",
      "20  1988     0\n",
      "21  1992     0\n",
      "22  1996     0\n",
      "23  2000     0\n",
      "24  2004     0\n",
      "25  2008     1\n",
      "26  2012     0\n",
      "According to graph we can see that India got first gold medal in 1928\n"
     ]
    },
    {
     "data": {
      "image/png": "[encoded data removed]",
      "text/plain": [
       "<Figure size 1080x360 with 1 Axes>"
      ]
     },
     "metadata": {
      "needs_background": "light"
     },
     "output_type": "display_data"
    }
   ],
   "source": [
    "data = []\n",
    "for year in df['Year'].unique():\n",
    "    data.append([year , len(df[(df['Year'] == year) & (df['Medal'] == \"Gold\") & (df['Country'] == \"IND\")])])\n",
    "\n",
    "plot_data = pd.DataFrame(data,columns = ['Year','Gold']).sort_values(by='Year', ascending=True)\n",
    "\n",
    "print(\"---------------India won Gold Medal in Summer Olympics--------------\\n\")\n",
    "print(plot_data)\n",
    "plot_data.plot(x = 'Year', y = 'Gold', kind = 'bar', figsize = (15,5), color = 'DarkBlue')\n",
    "\n",
    "print(\"According to graph we can see that India got first gold medal in 1928\")\n"
   ]
  },
  {
   "cell_type": "markdown",
   "id": "f82a1591",
   "metadata": {},
   "source": [
    "# 7. Which event is most popular in terms on number of players? (Top 5)"
   ]
  },
  {
   "cell_type": "markdown",
   "id": "bc16a37f",
   "metadata": {},
   "source": [
    "# Using Pandas groupby:-"
   ]
  },
  {
   "cell_type": "code",
   "execution_count": 48,
   "id": "d99de288",
   "metadata": {},
   "outputs": [
    {
     "data": {
      "text/plain": [
       "<AxesSubplot:xlabel='Event'>"
      ]
     },
     "execution_count": 48,
     "metadata": {},
     "output_type": "execute_result"
    },
    {
     "data": {
      "image/png": "[encoded data removed]",
      "text/plain": [
       "<Figure size 720x360 with 1 Axes>"
      ]
     },
     "metadata": {
      "needs_background": "light"
     },
     "output_type": "display_data"
    }
   ],
   "source": [
    "df.groupby(\"Event\").count()['Athlete'].sort_values(ascending=False).head(5).plot.bar(figsize=(10, 5), color = 'DarkGreen')"
   ]
  },
  {
   "cell_type": "markdown",
   "id": "0240a682",
   "metadata": {},
   "source": [
    "# Using inbuilt function:-"
   ]
  },
  {
   "cell_type": "code",
   "execution_count": 49,
   "id": "7c30a1bf",
   "metadata": {},
   "outputs": [
    {
     "name": "stdout",
     "output_type": "stream",
     "text": [
      "----------top-5 most popular events in terms on number of players------------ \n",
      "\n",
      "                Event  Athletes\n",
      "80           Football      1497\n",
      "176            Hockey      1422\n",
      "138  Team Competition      1147\n",
      "327        Basketball      1012\n",
      "337          Handball       973\n"
     ]
    },
    {
     "data": {
      "text/plain": [
       "<AxesSubplot:xlabel='Event'>"
      ]
     },
     "execution_count": 49,
     "metadata": {},
     "output_type": "execute_result"
    },
    {
     "data": {
      "image/png": "[encoded data removed]",
      "text/plain": [
       "<Figure size 720x360 with 1 Axes>"
      ]
     },
     "metadata": {
      "needs_background": "light"
     },
     "output_type": "display_data"
    }
   ],
   "source": [
    "data = []\n",
    "for event in df['Event'].unique():\n",
    "    data.append([event , len(df[(df['Event'] == event)])])\n",
    "\n",
    "plot_data = pd.DataFrame(data,columns = ['Event','Athletes']).sort_values(by='Athletes', ascending=False).head()\n",
    "\n",
    "print(\"----------top-5 most popular events in terms on number of players------------ \\n\")\n",
    "print(plot_data)\n",
    "plot_data.plot(x = 'Event', y = 'Athletes', kind = 'bar', figsize = (10,5), color = 'DarkBlue')"
   ]
  },
  {
   "cell_type": "markdown",
   "id": "4248c817",
   "metadata": {},
   "source": [
    "# 8. Which sport is having most female Gold Medalists? (Top 5)"
   ]
  },
  {
   "cell_type": "code",
   "execution_count": 38,
   "id": "ca1469be",
   "metadata": {},
   "outputs": [
    {
     "name": "stdout",
     "output_type": "stream",
     "text": [
      "------------top-5 Sport that having most female Gold Medalists------------ \n",
      "\n",
      "         Sport  No of female athlete\n",
      "0     Aquatics                   589\n",
      "1    Athletics                   389\n",
      "4   Gymnastics                   268\n",
      "17      Rowing                   217\n",
      "35  Volleyball                   166\n"
     ]
    },
    {
     "data": {
      "text/plain": [
       "<AxesSubplot:xlabel='Sport'>"
      ]
     },
     "execution_count": 38,
     "metadata": {},
     "output_type": "execute_result"
    },
    {
     "data": {
      "image/png": "[encoded data removed]",
      "text/plain": [
       "<Figure size 720x360 with 1 Axes>"
      ]
     },
     "metadata": {
      "needs_background": "light"
     },
     "output_type": "display_data"
    }
   ],
   "source": [
    "data = []\n",
    "for sport in df['Sport'].unique():\n",
    "    data.append([sport , len(df[(df['Sport'] == sport) & (df['Medal'] == \"Gold\") & (df['Gender'] == \"Women\")])])\n",
    "\n",
    "plot_data = pd.DataFrame(data,columns = ['Sport','No of female athlete']).sort_values(by='No of female athlete', ascending=False).head()\n",
    "\n",
    "print(\"------------top-5 Sport that having most female Gold Medalists------------ \\n\")\n",
    "print(plot_data)\n",
    "plot_data.plot(x = 'Sport', y = 'No of female athlete', kind = 'bar', figsize = (10,5), color = \"DarkGreen\")\n"
   ]
  },
  {
   "cell_type": "code",
   "execution_count": null,
   "id": "11cac615",
   "metadata": {},
   "outputs": [],
   "source": []
  }
 ],
 "metadata": {
  "kernelspec": {
   "display_name": "Python 3",
   "language": "python",
   "name": "python3"
  },
  "language_info": {
   "codemirror_mode": {
    "name": "ipython",
    "version": 3
   },
   "file_extension": ".py",
   "mimetype": "text/x-python",
   "name": "python",
   "nbconvert_exporter": "python",
   "pygments_lexer": "ipython3",
   "version": "3.8.8"
  }
 },
 "nbformat": 4,
 "nbformat_minor": 5
}
